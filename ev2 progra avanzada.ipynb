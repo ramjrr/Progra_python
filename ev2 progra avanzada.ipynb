{
  "cells": [
    {
      "cell_type": "markdown",
      "metadata": {
        "id": "view-in-github",
        "colab_type": "text"
      },
      "source": [
        "<a href=\"https://colab.research.google.com/github/ramjrr/Progra_python/blob/main/ev2%20progra%20avanzada.ipynb\" target=\"_parent\"><img src=\"https://colab.research.google.com/assets/colab-badge.svg\" alt=\"Open In Colab\"/></a>"
      ]
    },
    {
      "cell_type": "markdown",
      "source": [
        "#Evidencia 2 Progra avanzada"
      ],
      "metadata": {
        "id": "dhBx1rYU1tlW"
      }
    },
    {
      "cell_type": "markdown",
      "source": [
        "# **EXPLICACION DE LA CLASE**\n",
        "\n",
        "# __init__: Este es el método constructor que se llama cuando se crea una nueva instancia de la clase. Inicializa los atributos de la clase.\n",
        "\n",
        "#@property y @nombre.setter: Estas son propiedades que permiten acceder y modificar el atributo _nombre como si fuera un atributo público, pero con la capacidad de agregar lógica personalizada en la obtención y configuración.\n",
        "\n",
        "#obtener_informacion: Un método simple que devuelve una cadena formateada con la información de la persona.\n",
        "\n",
        "#cumplir_años: Un método que incrementa la edad de la persona en 1."
      ],
      "metadata": {
        "id": "waTmnZl426ZH"
      }
    },
    {
      "cell_type": "code",
      "source": [
        "class Persona:\n",
        "    def __init__(self, nombre, edad):\n",
        "        self._nombre = nombre\n",
        "        self._edad = edad\n",
        "\n",
        "    @property\n",
        "    def nombre(self):\n",
        "        return self._nombre\n",
        "\n",
        "    @nombre.setter\n",
        "    def nombre(self, nuevo_nombre):\n",
        "        self._nombre = nuevo_nombre\n",
        "\n",
        "    def obtener_informacion(self):\n",
        "        return f\"Nombre: {self._nombre}, Edad: {self._edad}\"\n",
        "\n",
        "    def cumplir_años(self):\n",
        "        self._edad += 1\n",
        "\n"
      ],
      "metadata": {
        "id": "W17hRVUm1nSI"
      },
      "execution_count": 7,
      "outputs": []
    }
  ],
  "metadata": {
    "colab": {
      "name": "Te damos la bienvenida a Colaboratory",
      "toc_visible": true,
      "provenance": [],
      "include_colab_link": true
    },
    "kernelspec": {
      "display_name": "Python 3",
      "name": "python3"
    }
  },
  "nbformat": 4,
  "nbformat_minor": 0
}