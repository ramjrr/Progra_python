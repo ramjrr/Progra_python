{
  "cells": [
    {
      "cell_type": "markdown",
      "metadata": {
        "id": "view-in-github",
        "colab_type": "text"
      },
      "source": [
        "<a href=\"https://colab.research.google.com/github/ramjrr/Progra_python/blob/main/Evidencia%203%20PrograAvanzada.ipynb\" target=\"_parent\"><img src=\"https://colab.research.google.com/assets/colab-badge.svg\" alt=\"Open In Colab\"/></a>"
      ]
    },
    {
      "cell_type": "markdown",
      "source": [
        "EVIDENCIA 3 PROGRAMACION AVANZADA Reyneiro Ramces Hernandez Robles 2013449"
      ],
      "metadata": {
        "id": "AxEfQtDevdaM"
      }
    },
    {
      "cell_type": "markdown",
      "source": [
        "El programa inicia importando las librerías pickle y os, que ya hemos visto antes en clases. La librería pickle nos da las funciones necesarias para serializar y deserializar objetos a pickle. La librería os nos da funciones para manipular el sistema operativo, como crear carpetas y abrir archivos.\n",
        "\n",
        "Hacemos un objeto complejo. En esta ocasion, el objeto es un diccionario con cuatro propiedades: nombre, edad, ciudad, fecha_nacimiento.\n",
        "\n",
        "En la tercera línea hacemos una carpeta para almacenar el archivo pickle. Para ello utilizamos la función os.makedirs(). Esta función tiene un parámetro: el nombre de la carpeta que queremos crear. El parámetro exist_ok=True indica que si la carpeta ya existe, no se creará una nueva carpeta.\n",
        "\n",
        "En la línea cuatro serializamos el objeto a pickle en el archivo mi_objeto.pickle, que se encuentra en la carpeta archivos. Para ello, utilizamos la función pickle.dump(). Esta función recibe dos parámetros: el objeto que queremos serializar y el archivo en el que queremos almacenarlo.\n",
        "\n",
        "En la linea seis recuperamos el contenido del archivo mi_objeto.pickle, que se encuentra en la carpeta archivos. Para ello se utiliza la función pickle.load(). Esta función recibe un parámetro: el archivo del que queremos recuperar el contenido.\n",
        "\n",
        "y en la linea siete imprimimos el objeto recuperado."
      ],
      "metadata": {
        "id": "vws3cJwZwceO"
      }
    },
    {
      "cell_type": "code",
      "source": [
        "\n",
        "import pickle\n",
        "import os\n",
        "\n",
        "mi_objeto = {\n",
        "    \"Nombre\": \"Reyneiro Ramces\",\n",
        "    \"Edad\": 19,\n",
        "    \"Ciudad\": \"Monterrey\",\n",
        "    \"Fecha_nacimiento\": \"2004, 06, 14\"\n",
        "}\n",
        "\n",
        "os.makedirs(\"archivos\", exist_ok=True)\n",
        "\n",
        "with open(os.path.join(\"archivos\", \"mi_objeto.pickle\"), \"wb\") as archivo:\n",
        "    pickle.dump(mi_objeto, archivo)\n",
        "\n",
        "with open(os.path.join(\"archivos\", \"mi_objeto.pickle\"), \"rb\") as archivo:\n",
        "    objeto_recuperado = pickle.load(archivo)\n",
        "\n",
        "print(objeto_recuperado)"
      ],
      "metadata": {
        "id": "B8eQxS8Gx2LZ",
        "outputId": "445de3df-bf1d-4507-be44-fdcbde1cf59c",
        "colab": {
          "base_uri": "https://localhost:8080/"
        }
      },
      "execution_count": 1,
      "outputs": [
        {
          "output_type": "stream",
          "name": "stdout",
          "text": [
            "{'Nombre': 'Reyneiro Ramces', 'Edad': 19, 'Ciudad': 'Monterrey', 'Fecha_nacimiento': '2004, 06, 14'}\n"
          ]
        }
      ]
    }
  ],
  "metadata": {
    "colab": {
      "name": "Te damos la bienvenida a Colaboratory",
      "toc_visible": true,
      "provenance": [],
      "include_colab_link": true
    },
    "kernelspec": {
      "display_name": "Python 3",
      "name": "python3"
    }
  },
  "nbformat": 4,
  "nbformat_minor": 0
}