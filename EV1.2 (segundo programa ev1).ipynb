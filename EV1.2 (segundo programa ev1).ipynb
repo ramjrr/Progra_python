{
  "cells": [
    {
      "cell_type": "markdown",
      "metadata": {
        "id": "view-in-github",
        "colab_type": "text"
      },
      "source": [
        "<a href=\"https://colab.research.google.com/github/ramjrr/Progra_python/blob/main/EV1.2%20(segundo%20programa%20ev1).ipynb\" target=\"_parent\"><img src=\"https://colab.research.google.com/assets/colab-badge.svg\" alt=\"Open In Colab\"/></a>"
      ]
    },
    {
      "cell_type": "code",
      "source": [
        "captura_n1=True\n",
        "captura_n2=True\n",
        "\n",
        "while True:\n",
        "    if captura_n1:\n",
        "        while True:\n",
        "            _n1=input(\"Dame el primer número: \")\n",
        "            if (_n1==''):\n",
        "                print('Dato incorrecto. No se puede omitir. Intenta de nuevo.')\n",
        "                continue\n",
        "            try:\n",
        "                n1=int(_n1)\n",
        "            except:\n",
        "                print('Dato incorrecto. El dato no es numérico. Intenta de nuevo.')\n",
        "                continue\n",
        "            if (not (n1>=0 and n1<100)):\n",
        "                print('Dato incorrecto. El dato está [0,100). Intenta de nuevo.')\n",
        "                continue\n",
        "            # Si llego aquí, n1 tiene un número entero entre [0,100)\n",
        "            captura_n1=False\n",
        "            break\n",
        "\n",
        "    if captura_n2:\n",
        "        while True:\n",
        "            _n2=input(\"Dame el segundo número: \")\n",
        "            if (_n2==''):\n",
        "                print('Dato incorrecto. No se puede omitir. Intenta de nuevo.')\n",
        "                continue\n",
        "            try:\n",
        "                n2=int(_n2)\n",
        "            except:\n",
        "                print('Dato incorrecto. El dato no es numérico. Intenta de nuevo.')\n",
        "                continue\n",
        "            if (not (n2>=0 and n2<100)):\n",
        "                print('Dato incorrecto. El dato está [0,100). Intenta de nuevo.')\n",
        "                continue\n",
        "            # Si llego aquí, n2 tiene un número entero entre [0,100)\n",
        "            captura_n2=False\n",
        "            break\n",
        "\n",
        "    # Validación a nivel formulario\n",
        "    if (n2<=n1):\n",
        "        print('Dato incorrecto. El segundo número debe ser mayor al primero. Intenta de nuevo.')\n",
        "        # Tipo de acción que queremos.\n",
        "        while True:\n",
        "            accion=input('[A] Preguntar el último, [B] Preguntar ambos: ')\n",
        "            accion=accion.upper()\n",
        "            if (accion=='A'):\n",
        "                captura_n2=True\n",
        "                break\n",
        "            elif (accion=='B'):\n",
        "                captura_n1=True\n",
        "                captura_n2=True\n",
        "                break\n",
        "            else:\n",
        "                print('Dato incorrecto. Solo A o B. Intenta de nuevo.')\n",
        "                continue\n",
        "        continue\n",
        "    # Si llega aquí, todo bien\n",
        "    break\n",
        "\n",
        "print('Fin del programa.')"
      ],
      "metadata": {
        "id": "gikVgD4F1Doh",
        "outputId": "4939c9a9-2af6-40eb-a278-7da439182741",
        "colab": {
          "base_uri": "https://localhost:8080/"
        }
      },
      "execution_count": 7,
      "outputs": [
        {
          "output_type": "stream",
          "name": "stdout",
          "text": [
            "Dame el primer número: 10\n",
            "Dame el segundo número: 6\n",
            "Dato incorrecto. El segundo número debe ser mayor al primero. Intenta de nuevo.\n",
            "[A] Preguntar el último, [B] Preguntar ambos: C\n",
            "Dato incorrecto. Solo A o B. Intenta de nuevo.\n",
            "[A] Preguntar el último, [B] Preguntar ambos: C\n",
            "Dato incorrecto. Solo A o B. Intenta de nuevo.\n",
            "[A] Preguntar el último, [B] Preguntar ambos: A\n",
            "Dame el segundo número: 6\n",
            "Dato incorrecto. El segundo número debe ser mayor al primero. Intenta de nuevo.\n",
            "[A] Preguntar el último, [B] Preguntar ambos: b\n",
            "Dame el primer número: 10\n",
            "Dame el segundo número: 50\n",
            "Fin del programa.\n"
          ]
        }
      ]
    }
  ],
  "metadata": {
    "colab": {
      "name": "Te damos la bienvenida a Colaboratory",
      "toc_visible": true,
      "provenance": [],
      "include_colab_link": true
    },
    "kernelspec": {
      "display_name": "Python 3",
      "name": "python3"
    }
  },
  "nbformat": 4,
  "nbformat_minor": 0
}